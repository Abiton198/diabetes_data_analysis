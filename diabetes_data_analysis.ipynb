{
 "cells": [
  {
   "cell_type": "code",
   "execution_count": 135,
   "id": "2a5819c1-39fc-40b0-9ab9-4ceb4c058a45",
   "metadata": {
    "tags": []
   },
   "outputs": [],
   "source": [
    "#import libraries to use for data manipulation\n",
    "import pandas as pd #for data visualization\n",
    "import matplotlib.pyplot as plt #statistical data visualization :comparisons\n",
    "import seaborn as sbn #statistical comparison of data visualization - built on matplotlib\n",
    "import numpy as np #for numerical and maths function on arrays"
   ]
  },
  {
   "cell_type": "code",
   "execution_count": 137,
   "id": "69063c2b-0f43-4784-a52e-259cfdaff4d9",
   "metadata": {
    "tags": []
   },
   "outputs": [
    {
     "name": "stdout",
     "output_type": "stream",
     "text": [
      "File loaded successfully!\n"
     ]
    }
   ],
   "source": [
    "#open csv file with error handling\n",
    "\n",
    "try:\n",
    "    with open('diabetes.csv') as df:\n",
    "        ds = pd.read_csv(df)\n",
    "        print(\"File loaded successfully!\")\n",
    "except FileNotFoundError:\n",
    "    print(f\"Error: The file '{df_path}' was not found.\")\n",
    "except Exception as e:\n",
    "    print(f\"An error occurred: {e}\")\n",
    "    \n",
    "\n",
    "    "
   ]
  },
  {
   "cell_type": "code",
   "execution_count": 139,
   "id": "db86da3c-5c2b-47e8-902c-a05615a26870",
   "metadata": {
    "tags": []
   },
   "outputs": [
    {
     "data": {
      "text/html": [
       "<div>\n",
       "<style scoped>\n",
       "    .dataframe tbody tr th:only-of-type {\n",
       "        vertical-align: middle;\n",
       "    }\n",
       "\n",
       "    .dataframe tbody tr th {\n",
       "        vertical-align: top;\n",
       "    }\n",
       "\n",
       "    .dataframe thead th {\n",
       "        text-align: right;\n",
       "    }\n",
       "</style>\n",
       "<table border=\"1\" class=\"dataframe\">\n",
       "  <thead>\n",
       "    <tr style=\"text-align: right;\">\n",
       "      <th></th>\n",
       "      <th>Pregnancies</th>\n",
       "      <th>Glucose</th>\n",
       "      <th>BloodPressure</th>\n",
       "      <th>SkinThickness</th>\n",
       "      <th>Insulin</th>\n",
       "      <th>BMI</th>\n",
       "      <th>DiabetesPedigreeFunction</th>\n",
       "      <th>Age</th>\n",
       "      <th>Outcome</th>\n",
       "    </tr>\n",
       "  </thead>\n",
       "  <tbody>\n",
       "    <tr>\n",
       "      <th>0</th>\n",
       "      <td>6.0</td>\n",
       "      <td>148.0</td>\n",
       "      <td>72.0</td>\n",
       "      <td>35</td>\n",
       "      <td>0.0</td>\n",
       "      <td>33.6</td>\n",
       "      <td>0.627</td>\n",
       "      <td>50.0</td>\n",
       "      <td>1</td>\n",
       "    </tr>\n",
       "    <tr>\n",
       "      <th>1</th>\n",
       "      <td>1.0</td>\n",
       "      <td>85.0</td>\n",
       "      <td>66.0</td>\n",
       "      <td>29</td>\n",
       "      <td>0.0</td>\n",
       "      <td>26.6</td>\n",
       "      <td>0.351</td>\n",
       "      <td>31.0</td>\n",
       "      <td>0</td>\n",
       "    </tr>\n",
       "    <tr>\n",
       "      <th>2</th>\n",
       "      <td>8.0</td>\n",
       "      <td>183.0</td>\n",
       "      <td>64.0</td>\n",
       "      <td>0</td>\n",
       "      <td>0.0</td>\n",
       "      <td>23.3</td>\n",
       "      <td>0.672</td>\n",
       "      <td>32.0</td>\n",
       "      <td>1</td>\n",
       "    </tr>\n",
       "    <tr>\n",
       "      <th>3</th>\n",
       "      <td>1.0</td>\n",
       "      <td>89.0</td>\n",
       "      <td>66.0</td>\n",
       "      <td>23</td>\n",
       "      <td>94.0</td>\n",
       "      <td>28.1</td>\n",
       "      <td>0.167</td>\n",
       "      <td>21.0</td>\n",
       "      <td>0</td>\n",
       "    </tr>\n",
       "    <tr>\n",
       "      <th>4</th>\n",
       "      <td>0.0</td>\n",
       "      <td>137.0</td>\n",
       "      <td>40.0</td>\n",
       "      <td>35</td>\n",
       "      <td>168.0</td>\n",
       "      <td>43.1</td>\n",
       "      <td>2.288</td>\n",
       "      <td>33.0</td>\n",
       "      <td>1</td>\n",
       "    </tr>\n",
       "  </tbody>\n",
       "</table>\n",
       "</div>"
      ],
      "text/plain": [
       "   Pregnancies  Glucose  BloodPressure  SkinThickness  Insulin   BMI  \\\n",
       "0          6.0    148.0           72.0             35      0.0  33.6   \n",
       "1          1.0     85.0           66.0             29      0.0  26.6   \n",
       "2          8.0    183.0           64.0              0      0.0  23.3   \n",
       "3          1.0     89.0           66.0             23     94.0  28.1   \n",
       "4          0.0    137.0           40.0             35    168.0  43.1   \n",
       "\n",
       "   DiabetesPedigreeFunction   Age  Outcome  \n",
       "0                     0.627  50.0        1  \n",
       "1                     0.351  31.0        0  \n",
       "2                     0.672  32.0        1  \n",
       "3                     0.167  21.0        0  \n",
       "4                     2.288  33.0        1  "
      ]
     },
     "execution_count": 139,
     "metadata": {},
     "output_type": "execute_result"
    }
   ],
   "source": [
    "ds.head() #returns 1st 5 rows in dataframe"
   ]
  },
  {
   "cell_type": "code",
   "execution_count": 141,
   "id": "5c71b7ce-c05f-45b6-9425-33ffa4771023",
   "metadata": {
    "tags": []
   },
   "outputs": [
    {
     "data": {
      "text/plain": [
       "Index(['Pregnancies', 'Glucose', 'BloodPressure', 'SkinThickness', 'Insulin',\n",
       "       'BMI', 'DiabetesPedigreeFunction', 'Age', 'Outcome'],\n",
       "      dtype='object')"
      ]
     },
     "execution_count": 141,
     "metadata": {},
     "output_type": "execute_result"
    }
   ],
   "source": [
    "ds.columns # gives us all columns in dataset"
   ]
  },
  {
   "cell_type": "code",
   "execution_count": 143,
   "id": "f172dd7d-f6f1-4184-879b-be69159041ce",
   "metadata": {
    "tags": []
   },
   "outputs": [
    {
     "data": {
      "text/plain": [
       "(768, 9)"
      ]
     },
     "execution_count": 143,
     "metadata": {},
     "output_type": "execute_result"
    }
   ],
   "source": [
    "ds.shape #checking the dimensionality of the dataframe"
   ]
  },
  {
   "cell_type": "code",
   "execution_count": 145,
   "id": "74699eac-289b-4471-bead-3730e10b204f",
   "metadata": {
    "tags": []
   },
   "outputs": [
    {
     "data": {
      "text/plain": [
       "False"
      ]
     },
     "execution_count": 145,
     "metadata": {},
     "output_type": "execute_result"
    }
   ],
   "source": [
    "ds.duplicated().any() #checking if there is any duplicates "
   ]
  },
  {
   "cell_type": "code",
   "execution_count": 147,
   "id": "f7667d47-9007-446d-aa92-911a3745f9f4",
   "metadata": {
    "tags": []
   },
   "outputs": [
    {
     "data": {
      "text/plain": [
       "Pregnancies                 float64\n",
       "Glucose                     float64\n",
       "BloodPressure               float64\n",
       "SkinThickness                 int64\n",
       "Insulin                     float64\n",
       "BMI                         float64\n",
       "DiabetesPedigreeFunction    float64\n",
       "Age                         float64\n",
       "Outcome                       int64\n",
       "dtype: object"
      ]
     },
     "execution_count": 147,
     "metadata": {},
     "output_type": "execute_result"
    }
   ],
   "source": [
    "ds.dtypes #checking data types in every column"
   ]
  },
  {
   "cell_type": "code",
   "execution_count": 149,
   "id": "63852484-9887-410b-9058-08a9ac634f3a",
   "metadata": {
    "tags": []
   },
   "outputs": [
    {
     "data": {
      "text/plain": [
       "array([148.,  85., 183.,  89., 137., 116.,  78., 115., 197., 125., 110.,\n",
       "       168., 139., 189., 166., 100., 118., 107., 103., 126.,  99., 196.,\n",
       "       119., 143., 147.,  97., 145., 117., 109., 158.,  88.,  92., 122.,\n",
       "       138., 102.,  90., 111., 180.,  nan, 106., 171., 159., 146.,  71.,\n",
       "       105., 101., 176., 150.,  73., 187.,  84., 133.,  44., 141.,  95.,\n",
       "       129.,  79.,   0.,  62., 131., 112., 113.,  74.,  83., 136.,  80.,\n",
       "       123.,  81., 134., 142., 144.,  93., 163., 151.,  96., 155.,  76.,\n",
       "       160., 124., 162., 132., 120., 173., 170., 128., 108., 154.,  57.,\n",
       "       114., 156., 153., 188., 152., 104.,  87.,  75., 179., 130., 194.,\n",
       "       181., 135., 184., 140., 177., 164.,  91., 165.,  86., 193., 191.,\n",
       "       161., 167.,  77., 182., 157., 178.,  61.,  98., 127.,  82.,  72.,\n",
       "       172.,  94., 175., 195.,  68., 186., 198., 121.,  67., 174., 199.,\n",
       "        56., 169., 149.,  65., 190.])"
      ]
     },
     "execution_count": 149,
     "metadata": {},
     "output_type": "execute_result"
    }
   ],
   "source": [
    "ds['Glucose'].unique() #checking the values of a column (Glucose) using attributes of the framework"
   ]
  },
  {
   "cell_type": "code",
   "execution_count": 151,
   "id": "635f2ab5-4662-4b0f-ab60-7482409d3f94",
   "metadata": {
    "tags": []
   },
   "outputs": [
    {
     "data": {
      "text/html": [
       "<div>\n",
       "<style scoped>\n",
       "    .dataframe tbody tr th:only-of-type {\n",
       "        vertical-align: middle;\n",
       "    }\n",
       "\n",
       "    .dataframe tbody tr th {\n",
       "        vertical-align: top;\n",
       "    }\n",
       "\n",
       "    .dataframe thead th {\n",
       "        text-align: right;\n",
       "    }\n",
       "</style>\n",
       "<table border=\"1\" class=\"dataframe\">\n",
       "  <thead>\n",
       "    <tr style=\"text-align: right;\">\n",
       "      <th></th>\n",
       "      <th>Pregnancies</th>\n",
       "      <th>Glucose</th>\n",
       "      <th>BloodPressure</th>\n",
       "      <th>SkinThickness</th>\n",
       "      <th>Insulin</th>\n",
       "      <th>BMI</th>\n",
       "      <th>DiabetesPedigreeFunction</th>\n",
       "      <th>Age</th>\n",
       "      <th>Outcome</th>\n",
       "    </tr>\n",
       "  </thead>\n",
       "  <tbody>\n",
       "    <tr>\n",
       "      <th>count</th>\n",
       "      <td>767.000000</td>\n",
       "      <td>763.000000</td>\n",
       "      <td>764.000000</td>\n",
       "      <td>768.000000</td>\n",
       "      <td>767.000000</td>\n",
       "      <td>768.000000</td>\n",
       "      <td>766.000000</td>\n",
       "      <td>766.000000</td>\n",
       "      <td>768.000000</td>\n",
       "    </tr>\n",
       "    <tr>\n",
       "      <th>mean</th>\n",
       "      <td>3.844850</td>\n",
       "      <td>120.980341</td>\n",
       "      <td>69.075916</td>\n",
       "      <td>20.536458</td>\n",
       "      <td>79.778357</td>\n",
       "      <td>31.992578</td>\n",
       "      <td>0.470292</td>\n",
       "      <td>33.201044</td>\n",
       "      <td>0.348958</td>\n",
       "    </tr>\n",
       "    <tr>\n",
       "      <th>std</th>\n",
       "      <td>3.371772</td>\n",
       "      <td>32.033994</td>\n",
       "      <td>19.387867</td>\n",
       "      <td>15.952218</td>\n",
       "      <td>115.317715</td>\n",
       "      <td>7.884160</td>\n",
       "      <td>0.329920</td>\n",
       "      <td>11.734929</td>\n",
       "      <td>0.476951</td>\n",
       "    </tr>\n",
       "    <tr>\n",
       "      <th>min</th>\n",
       "      <td>0.000000</td>\n",
       "      <td>0.000000</td>\n",
       "      <td>0.000000</td>\n",
       "      <td>0.000000</td>\n",
       "      <td>0.000000</td>\n",
       "      <td>0.000000</td>\n",
       "      <td>0.078000</td>\n",
       "      <td>21.000000</td>\n",
       "      <td>0.000000</td>\n",
       "    </tr>\n",
       "    <tr>\n",
       "      <th>25%</th>\n",
       "      <td>1.000000</td>\n",
       "      <td>99.000000</td>\n",
       "      <td>62.000000</td>\n",
       "      <td>0.000000</td>\n",
       "      <td>0.000000</td>\n",
       "      <td>27.300000</td>\n",
       "      <td>0.243250</td>\n",
       "      <td>24.000000</td>\n",
       "      <td>0.000000</td>\n",
       "    </tr>\n",
       "  </tbody>\n",
       "</table>\n",
       "</div>"
      ],
      "text/plain": [
       "       Pregnancies     Glucose  BloodPressure  SkinThickness     Insulin  \\\n",
       "count   767.000000  763.000000     764.000000     768.000000  767.000000   \n",
       "mean      3.844850  120.980341      69.075916      20.536458   79.778357   \n",
       "std       3.371772   32.033994      19.387867      15.952218  115.317715   \n",
       "min       0.000000    0.000000       0.000000       0.000000    0.000000   \n",
       "25%       1.000000   99.000000      62.000000       0.000000    0.000000   \n",
       "\n",
       "              BMI  DiabetesPedigreeFunction         Age     Outcome  \n",
       "count  768.000000                766.000000  766.000000  768.000000  \n",
       "mean    31.992578                  0.470292   33.201044    0.348958  \n",
       "std      7.884160                  0.329920   11.734929    0.476951  \n",
       "min      0.000000                  0.078000   21.000000    0.000000  \n",
       "25%     27.300000                  0.243250   24.000000    0.000000  "
      ]
     },
     "execution_count": 151,
     "metadata": {},
     "output_type": "execute_result"
    }
   ],
   "source": [
    "ds.describe().head() # gives a summary of statistical data"
   ]
  },
  {
   "cell_type": "code",
   "execution_count": 153,
   "id": "738064c1-dd3b-4b3a-8d43-6f3dec79046e",
   "metadata": {
    "tags": []
   },
   "outputs": [
    {
     "data": {
      "text/html": [
       "<div>\n",
       "<style scoped>\n",
       "    .dataframe tbody tr th:only-of-type {\n",
       "        vertical-align: middle;\n",
       "    }\n",
       "\n",
       "    .dataframe tbody tr th {\n",
       "        vertical-align: top;\n",
       "    }\n",
       "\n",
       "    .dataframe thead th {\n",
       "        text-align: right;\n",
       "    }\n",
       "</style>\n",
       "<table border=\"1\" class=\"dataframe\">\n",
       "  <thead>\n",
       "    <tr style=\"text-align: right;\">\n",
       "      <th></th>\n",
       "      <th>Pregnancies</th>\n",
       "      <th>Glucose</th>\n",
       "      <th>BloodPressure</th>\n",
       "      <th>SkinThickness</th>\n",
       "      <th>Insulin</th>\n",
       "      <th>BMI</th>\n",
       "      <th>DiabetesPedigreeFunction</th>\n",
       "      <th>Age</th>\n",
       "      <th>Outcome</th>\n",
       "    </tr>\n",
       "  </thead>\n",
       "  <tbody>\n",
       "    <tr>\n",
       "      <th>0</th>\n",
       "      <td>6.0</td>\n",
       "      <td>148.0</td>\n",
       "      <td>72.0</td>\n",
       "      <td>35</td>\n",
       "      <td>0.0</td>\n",
       "      <td>33.6</td>\n",
       "      <td>0.627</td>\n",
       "      <td>50.0</td>\n",
       "      <td>1</td>\n",
       "    </tr>\n",
       "    <tr>\n",
       "      <th>1</th>\n",
       "      <td>1.0</td>\n",
       "      <td>85.0</td>\n",
       "      <td>66.0</td>\n",
       "      <td>29</td>\n",
       "      <td>0.0</td>\n",
       "      <td>26.6</td>\n",
       "      <td>0.351</td>\n",
       "      <td>31.0</td>\n",
       "      <td>0</td>\n",
       "    </tr>\n",
       "    <tr>\n",
       "      <th>2</th>\n",
       "      <td>8.0</td>\n",
       "      <td>183.0</td>\n",
       "      <td>64.0</td>\n",
       "      <td>0</td>\n",
       "      <td>0.0</td>\n",
       "      <td>23.3</td>\n",
       "      <td>0.672</td>\n",
       "      <td>32.0</td>\n",
       "      <td>1</td>\n",
       "    </tr>\n",
       "    <tr>\n",
       "      <th>3</th>\n",
       "      <td>1.0</td>\n",
       "      <td>89.0</td>\n",
       "      <td>66.0</td>\n",
       "      <td>23</td>\n",
       "      <td>94.0</td>\n",
       "      <td>28.1</td>\n",
       "      <td>0.167</td>\n",
       "      <td>21.0</td>\n",
       "      <td>0</td>\n",
       "    </tr>\n",
       "    <tr>\n",
       "      <th>4</th>\n",
       "      <td>0.0</td>\n",
       "      <td>137.0</td>\n",
       "      <td>40.0</td>\n",
       "      <td>35</td>\n",
       "      <td>168.0</td>\n",
       "      <td>43.1</td>\n",
       "      <td>2.288</td>\n",
       "      <td>33.0</td>\n",
       "      <td>1</td>\n",
       "    </tr>\n",
       "  </tbody>\n",
       "</table>\n",
       "</div>"
      ],
      "text/plain": [
       "   Pregnancies  Glucose  BloodPressure  SkinThickness  Insulin   BMI  \\\n",
       "0          6.0    148.0           72.0             35      0.0  33.6   \n",
       "1          1.0     85.0           66.0             29      0.0  26.6   \n",
       "2          8.0    183.0           64.0              0      0.0  23.3   \n",
       "3          1.0     89.0           66.0             23     94.0  28.1   \n",
       "4          0.0    137.0           40.0             35    168.0  43.1   \n",
       "\n",
       "   DiabetesPedigreeFunction   Age  Outcome  \n",
       "0                     0.627  50.0        1  \n",
       "1                     0.351  31.0        0  \n",
       "2                     0.672  32.0        1  \n",
       "3                     0.167  21.0        0  \n",
       "4                     2.288  33.0        1  "
      ]
     },
     "execution_count": 153,
     "metadata": {},
     "output_type": "execute_result"
    }
   ],
   "source": [
    "ds.iloc[0:5] #access rows and columns using index based (start from 0) - end is exclusive"
   ]
  },
  {
   "cell_type": "code",
   "execution_count": 155,
   "id": "e090fdad-d850-4b15-80ee-746122dfff27",
   "metadata": {
    "tags": []
   },
   "outputs": [
    {
     "data": {
      "text/html": [
       "<div>\n",
       "<style scoped>\n",
       "    .dataframe tbody tr th:only-of-type {\n",
       "        vertical-align: middle;\n",
       "    }\n",
       "\n",
       "    .dataframe tbody tr th {\n",
       "        vertical-align: top;\n",
       "    }\n",
       "\n",
       "    .dataframe thead th {\n",
       "        text-align: right;\n",
       "    }\n",
       "</style>\n",
       "<table border=\"1\" class=\"dataframe\">\n",
       "  <thead>\n",
       "    <tr style=\"text-align: right;\">\n",
       "      <th></th>\n",
       "      <th>Pregnancies</th>\n",
       "      <th>Glucose</th>\n",
       "      <th>BloodPressure</th>\n",
       "      <th>SkinThickness</th>\n",
       "      <th>Insulin</th>\n",
       "      <th>BMI</th>\n",
       "      <th>DiabetesPedigreeFunction</th>\n",
       "      <th>Age</th>\n",
       "      <th>Outcome</th>\n",
       "    </tr>\n",
       "  </thead>\n",
       "  <tbody>\n",
       "    <tr>\n",
       "      <th>0</th>\n",
       "      <td>6.0</td>\n",
       "      <td>148.0</td>\n",
       "      <td>72.0</td>\n",
       "      <td>35</td>\n",
       "      <td>0.0</td>\n",
       "      <td>33.6</td>\n",
       "      <td>0.627</td>\n",
       "      <td>50.0</td>\n",
       "      <td>1</td>\n",
       "    </tr>\n",
       "    <tr>\n",
       "      <th>1</th>\n",
       "      <td>1.0</td>\n",
       "      <td>85.0</td>\n",
       "      <td>66.0</td>\n",
       "      <td>29</td>\n",
       "      <td>0.0</td>\n",
       "      <td>26.6</td>\n",
       "      <td>0.351</td>\n",
       "      <td>31.0</td>\n",
       "      <td>0</td>\n",
       "    </tr>\n",
       "    <tr>\n",
       "      <th>2</th>\n",
       "      <td>8.0</td>\n",
       "      <td>183.0</td>\n",
       "      <td>64.0</td>\n",
       "      <td>0</td>\n",
       "      <td>0.0</td>\n",
       "      <td>23.3</td>\n",
       "      <td>0.672</td>\n",
       "      <td>32.0</td>\n",
       "      <td>1</td>\n",
       "    </tr>\n",
       "    <tr>\n",
       "      <th>3</th>\n",
       "      <td>1.0</td>\n",
       "      <td>89.0</td>\n",
       "      <td>66.0</td>\n",
       "      <td>23</td>\n",
       "      <td>94.0</td>\n",
       "      <td>28.1</td>\n",
       "      <td>0.167</td>\n",
       "      <td>21.0</td>\n",
       "      <td>0</td>\n",
       "    </tr>\n",
       "    <tr>\n",
       "      <th>4</th>\n",
       "      <td>0.0</td>\n",
       "      <td>137.0</td>\n",
       "      <td>40.0</td>\n",
       "      <td>35</td>\n",
       "      <td>168.0</td>\n",
       "      <td>43.1</td>\n",
       "      <td>2.288</td>\n",
       "      <td>33.0</td>\n",
       "      <td>1</td>\n",
       "    </tr>\n",
       "    <tr>\n",
       "      <th>5</th>\n",
       "      <td>5.0</td>\n",
       "      <td>116.0</td>\n",
       "      <td>74.0</td>\n",
       "      <td>0</td>\n",
       "      <td>0.0</td>\n",
       "      <td>25.6</td>\n",
       "      <td>0.201</td>\n",
       "      <td>30.0</td>\n",
       "      <td>0</td>\n",
       "    </tr>\n",
       "  </tbody>\n",
       "</table>\n",
       "</div>"
      ],
      "text/plain": [
       "   Pregnancies  Glucose  BloodPressure  SkinThickness  Insulin   BMI  \\\n",
       "0          6.0    148.0           72.0             35      0.0  33.6   \n",
       "1          1.0     85.0           66.0             29      0.0  26.6   \n",
       "2          8.0    183.0           64.0              0      0.0  23.3   \n",
       "3          1.0     89.0           66.0             23     94.0  28.1   \n",
       "4          0.0    137.0           40.0             35    168.0  43.1   \n",
       "5          5.0    116.0           74.0              0      0.0  25.6   \n",
       "\n",
       "   DiabetesPedigreeFunction   Age  Outcome  \n",
       "0                     0.627  50.0        1  \n",
       "1                     0.351  31.0        0  \n",
       "2                     0.672  32.0        1  \n",
       "3                     0.167  21.0        0  \n",
       "4                     2.288  33.0        1  \n",
       "5                     0.201  30.0        0  "
      ]
     },
     "execution_count": 155,
     "metadata": {},
     "output_type": "execute_result"
    }
   ],
   "source": [
    "ds.loc[0:5] #access rows using integer based value - end is inclusive"
   ]
  },
  {
   "cell_type": "code",
   "execution_count": 157,
   "id": "361a9b62-e89d-4896-a13d-db0b14d9aa45",
   "metadata": {
    "tags": []
   },
   "outputs": [
    {
     "data": {
      "text/plain": [
       "Pregnancies                  True\n",
       "Glucose                      True\n",
       "BloodPressure                True\n",
       "SkinThickness               False\n",
       "Insulin                      True\n",
       "BMI                         False\n",
       "DiabetesPedigreeFunction     True\n",
       "Age                          True\n",
       "Outcome                     False\n",
       "dtype: bool"
      ]
     },
     "execution_count": 157,
     "metadata": {},
     "output_type": "execute_result"
    }
   ],
   "source": [
    "ds.isnull().any() #checking if there is any missing value. If missing values are there, can use the following function to handle them."
   ]
  },
  {
   "cell_type": "code",
   "execution_count": 159,
   "id": "4674ac10-f6f9-474b-adc4-5c943fc558f0",
   "metadata": {
    "tags": []
   },
   "outputs": [],
   "source": [
    "#function to handle missing values\n",
    "\n",
    "def handle_missing_values(ds, column, strategy='mean'):\n",
    "    '''\n",
    "    Dataframe with missing values can affect the quality - ensuring no missing values\n",
    "    ds(dataframe) - the dataset used in ths project\n",
    "    columns(str) - any column to handle \n",
    "    strategy(str) - methods used to solve missing data (mean, median or mode) carries a default value of 'mean'\n",
    "    fillna() - method to handle missing values \n",
    "    \n",
    "    Return:\n",
    "    ds - dataframe without missing values\n",
    "    '''    \n",
    "    \n",
    "    #check and count any missing values in the df before handling them\n",
    "    count_missing_values = ds[column].isnull().sum()\n",
    "    # print(f'Initially there are {count_missing_values} missing values in these columns')\n",
    "    #handle the missing values\n",
    "    if count_missing_values > 0:\n",
    "    \n",
    "        #conditional statement to chose a method to handle missing value if the above is True\n",
    "        if strategy == 'mean':\n",
    "            ds[column].fillna(ds[column].mean(), inplace=True)\n",
    "        elif strategy == 'median':\n",
    "            ds[column].fillna(ds[column].median(), inplace=True)\n",
    "        elif strategy == 'mode':\n",
    "            ds[column].fillna(ds[column].mode()[0], inplace=True)\n",
    "\n",
    "        \n",
    "         # Confirm missing values are handled\n",
    "    new_missing_count = ds[column].isnull().sum() #checks if any missing values\n",
    "    if new_missing_count == 0:\n",
    "        print(f\"Missing values in column '{column}' have been successfully handled.\")\n",
    "    elif new_missing_count > 0:\n",
    "        print(f\"Warning: Column '{column}' still has {new_missing_count} missing values.\")       \n",
    "    else:\n",
    "        print(f\"No missing values in column '{column}' to handle.\")\n",
    "\n",
    "    return ds\n",
    "    \n",
    "        "
   ]
  },
  {
   "cell_type": "code",
   "execution_count": 161,
   "id": "bf854c10-0c94-48a4-bf23-fec15747e5ad",
   "metadata": {
    "tags": []
   },
   "outputs": [
    {
     "name": "stdout",
     "output_type": "stream",
     "text": [
      "Missing values in column 'Glucose' have been successfully handled.\n",
      "Missing values in column 'BloodPressure' have been successfully handled.\n",
      "Missing values in column 'Age' have been successfully handled.\n",
      "Missing values in column 'DiabetesPedigreeFunction' have been successfully handled.\n",
      "Missing values in column 'Insulin' have been successfully handled.\n",
      "Missing values in column 'Pregnancies' have been successfully handled.\n"
     ]
    },
    {
     "name": "stderr",
     "output_type": "stream",
     "text": [
      "/tmp/ipykernel_10641/2997586057.py:23: FutureWarning: A value is trying to be set on a copy of a DataFrame or Series through chained assignment using an inplace method.\n",
      "The behavior will change in pandas 3.0. This inplace method will never work because the intermediate object on which we are setting values always behaves as a copy.\n",
      "\n",
      "For example, when doing 'df[col].method(value, inplace=True)', try using 'df.method({col: value}, inplace=True)' or df[col] = df[col].method(value) instead, to perform the operation inplace on the original object.\n",
      "\n",
      "\n",
      "  ds[column].fillna(ds[column].mean(), inplace=True)\n",
      "/tmp/ipykernel_10641/2997586057.py:25: FutureWarning: A value is trying to be set on a copy of a DataFrame or Series through chained assignment using an inplace method.\n",
      "The behavior will change in pandas 3.0. This inplace method will never work because the intermediate object on which we are setting values always behaves as a copy.\n",
      "\n",
      "For example, when doing 'df[col].method(value, inplace=True)', try using 'df.method({col: value}, inplace=True)' or df[col] = df[col].method(value) instead, to perform the operation inplace on the original object.\n",
      "\n",
      "\n",
      "  ds[column].fillna(ds[column].median(), inplace=True)\n",
      "/tmp/ipykernel_10641/2997586057.py:27: FutureWarning: A value is trying to be set on a copy of a DataFrame or Series through chained assignment using an inplace method.\n",
      "The behavior will change in pandas 3.0. This inplace method will never work because the intermediate object on which we are setting values always behaves as a copy.\n",
      "\n",
      "For example, when doing 'df[col].method(value, inplace=True)', try using 'df.method({col: value}, inplace=True)' or df[col] = df[col].method(value) instead, to perform the operation inplace on the original object.\n",
      "\n",
      "\n",
      "  ds[column].fillna(ds[column].mode()[0], inplace=True)\n"
     ]
    }
   ],
   "source": [
    "# List of columns and corresponding strategies\n",
    "columns_strategies = {\n",
    "    'Glucose': 'mean',\n",
    "    'BloodPressure': 'median',\n",
    "    'Age': 'mean',\n",
    "    'DiabetesPedigreeFunction': 'median',\n",
    "    'Insulin': 'median',\n",
    "    'Pregnancies': 'mode'\n",
    "}\n",
    "\n",
    "# Loop through each column and call the function\n",
    "for column, strategy in columns_strategies.items():\n",
    "    ds = handle_missing_values(ds, column, strategy)\n",
    "    "
   ]
  },
  {
   "cell_type": "code",
   "execution_count": 163,
   "id": "34755d62-20e6-4ce4-a221-e54969c0a7a3",
   "metadata": {},
   "outputs": [
    {
     "data": {
      "text/plain": [
       "Pregnancies                 False\n",
       "Glucose                     False\n",
       "BloodPressure               False\n",
       "SkinThickness               False\n",
       "Insulin                     False\n",
       "BMI                         False\n",
       "DiabetesPedigreeFunction    False\n",
       "Age                         False\n",
       "Outcome                     False\n",
       "dtype: bool"
      ]
     },
     "execution_count": 163,
     "metadata": {},
     "output_type": "execute_result"
    }
   ],
   "source": [
    "ds.isnull().any() #repeat the method to see if the above function has worked"
   ]
  },
  {
   "cell_type": "code",
   "execution_count": 165,
   "id": "2ebddd92-869a-4d6d-9323-567ac82a6aab",
   "metadata": {
    "tags": []
   },
   "outputs": [],
   "source": [
    "#Feature Engineering - a process of edit or create new columns and convensional naming column"
   ]
  },
  {
   "cell_type": "code",
   "execution_count": 167,
   "id": "0d8d2aa3-8c7e-4ef8-a3fd-bf2ede60d2b9",
   "metadata": {
    "tags": []
   },
   "outputs": [],
   "source": [
    "#renaming the columns allows to claim data familiarity\n",
    "ds.rename(columns = {\n",
    "    'Pregnancies': 'Num_Pregnancies',\n",
    "    'Glucose':'Glucose_level', \n",
    "    'BloodPressure':'BP_Measurement',\n",
    "    'SkinThickness':'Skin_Fold',\n",
    "    'Insulin':'Insulin_level',\n",
    "    'Age':'Age_Range',\n",
    "    'BMI':'Body_Mass_Index',\n",
    "    'DiabetesPedigreeFunction':'Diabetes_%', \n",
    "    'Outcome':'Diabetes_status' \n",
    "    \n",
    "    }, inplace =True)"
   ]
  },
  {
   "cell_type": "code",
   "execution_count": 169,
   "id": "b5720927-ccf4-4d4c-b957-d094bc6161d6",
   "metadata": {
    "tags": []
   },
   "outputs": [
    {
     "data": {
      "text/plain": [
       "Index(['Num_Pregnancies', 'Glucose_level', 'BP_Measurement', 'Skin_Fold',\n",
       "       'Insulin_level', 'Body_Mass_Index', 'Diabetes_%', 'Age_Range',\n",
       "       'Diabetes_status'],\n",
       "      dtype='object')"
      ]
     },
     "execution_count": 169,
     "metadata": {},
     "output_type": "execute_result"
    }
   ],
   "source": [
    "ds.columns #check if the above changes has been effected"
   ]
  },
  {
   "cell_type": "code",
   "execution_count": 171,
   "id": "31b9e0d0-6638-4cee-90c0-61b9bb256f5f",
   "metadata": {
    "tags": []
   },
   "outputs": [],
   "source": [
    "#Categorizing age groups can make the interpretation of data more easy and \n",
    "#visualization and accessibility to insights more clearer and informative\n",
    "\n",
    "def categorize_age(ds):\n",
    "    \"\"\"\n",
    "    Categorizes age into three groups: young, middle-aged, and senior.\n",
    "    \n",
    "    Parameters:\n",
    "    ds (DataSet): The DataFrame containing the 'Age_Range' column.\n",
    "    \n",
    "    Returns:\n",
    "    DataFrame: The DataFrame with a new 'AgeGroup' column.\n",
    "    \"\"\"\n",
    "    bins = [0, 25, 40, 80] #range of age-groups\n",
    "    labels = ['young', 'middle-aged', 'senior']\n",
    "    \n",
    "    #cut() function that categorizes numerical values into ranges\n",
    "    ds['Age_Range'] = pd.cut(ds['Age_Range'], bins=bins, labels=labels)\n",
    "    return ds\n"
   ]
  },
  {
   "cell_type": "code",
   "execution_count": 173,
   "id": "b6e35f47-99d7-4921-8b4a-8f12bbdbbc86",
   "metadata": {
    "tags": []
   },
   "outputs": [
    {
     "data": {
      "text/html": [
       "<div>\n",
       "<style scoped>\n",
       "    .dataframe tbody tr th:only-of-type {\n",
       "        vertical-align: middle;\n",
       "    }\n",
       "\n",
       "    .dataframe tbody tr th {\n",
       "        vertical-align: top;\n",
       "    }\n",
       "\n",
       "    .dataframe thead th {\n",
       "        text-align: right;\n",
       "    }\n",
       "</style>\n",
       "<table border=\"1\" class=\"dataframe\">\n",
       "  <thead>\n",
       "    <tr style=\"text-align: right;\">\n",
       "      <th></th>\n",
       "      <th>Num_Pregnancies</th>\n",
       "      <th>Glucose_level</th>\n",
       "      <th>BP_Measurement</th>\n",
       "      <th>Skin_Fold</th>\n",
       "      <th>Insulin_level</th>\n",
       "      <th>Body_Mass_Index</th>\n",
       "      <th>Diabetes_%</th>\n",
       "      <th>Age_Range</th>\n",
       "      <th>Diabetes_status</th>\n",
       "    </tr>\n",
       "  </thead>\n",
       "  <tbody>\n",
       "    <tr>\n",
       "      <th>0</th>\n",
       "      <td>6.0</td>\n",
       "      <td>148.0</td>\n",
       "      <td>72.0</td>\n",
       "      <td>35</td>\n",
       "      <td>0.0</td>\n",
       "      <td>33.6</td>\n",
       "      <td>0.627</td>\n",
       "      <td>senior</td>\n",
       "      <td>1</td>\n",
       "    </tr>\n",
       "    <tr>\n",
       "      <th>1</th>\n",
       "      <td>1.0</td>\n",
       "      <td>85.0</td>\n",
       "      <td>66.0</td>\n",
       "      <td>29</td>\n",
       "      <td>0.0</td>\n",
       "      <td>26.6</td>\n",
       "      <td>0.351</td>\n",
       "      <td>middle-aged</td>\n",
       "      <td>0</td>\n",
       "    </tr>\n",
       "    <tr>\n",
       "      <th>2</th>\n",
       "      <td>8.0</td>\n",
       "      <td>183.0</td>\n",
       "      <td>64.0</td>\n",
       "      <td>0</td>\n",
       "      <td>0.0</td>\n",
       "      <td>23.3</td>\n",
       "      <td>0.672</td>\n",
       "      <td>middle-aged</td>\n",
       "      <td>1</td>\n",
       "    </tr>\n",
       "    <tr>\n",
       "      <th>3</th>\n",
       "      <td>1.0</td>\n",
       "      <td>89.0</td>\n",
       "      <td>66.0</td>\n",
       "      <td>23</td>\n",
       "      <td>94.0</td>\n",
       "      <td>28.1</td>\n",
       "      <td>0.167</td>\n",
       "      <td>young</td>\n",
       "      <td>0</td>\n",
       "    </tr>\n",
       "    <tr>\n",
       "      <th>4</th>\n",
       "      <td>0.0</td>\n",
       "      <td>137.0</td>\n",
       "      <td>40.0</td>\n",
       "      <td>35</td>\n",
       "      <td>168.0</td>\n",
       "      <td>43.1</td>\n",
       "      <td>2.288</td>\n",
       "      <td>middle-aged</td>\n",
       "      <td>1</td>\n",
       "    </tr>\n",
       "  </tbody>\n",
       "</table>\n",
       "</div>"
      ],
      "text/plain": [
       "   Num_Pregnancies  Glucose_level  BP_Measurement  Skin_Fold  Insulin_level  \\\n",
       "0              6.0          148.0            72.0         35            0.0   \n",
       "1              1.0           85.0            66.0         29            0.0   \n",
       "2              8.0          183.0            64.0          0            0.0   \n",
       "3              1.0           89.0            66.0         23           94.0   \n",
       "4              0.0          137.0            40.0         35          168.0   \n",
       "\n",
       "   Body_Mass_Index  Diabetes_%    Age_Range  Diabetes_status  \n",
       "0             33.6       0.627       senior                1  \n",
       "1             26.6       0.351  middle-aged                0  \n",
       "2             23.3       0.672  middle-aged                1  \n",
       "3             28.1       0.167        young                0  \n",
       "4             43.1       2.288  middle-aged                1  "
      ]
     },
     "execution_count": 173,
     "metadata": {},
     "output_type": "execute_result"
    }
   ],
   "source": [
    "#call function\n",
    "ds = categorize_age(ds)\n",
    "ds.head()"
   ]
  },
  {
   "cell_type": "code",
   "execution_count": 175,
   "id": "b9984ca2-85fd-4cb7-8b10-802591e83d3b",
   "metadata": {
    "tags": []
   },
   "outputs": [
    {
     "data": {
      "text/html": [
       "<div>\n",
       "<style scoped>\n",
       "    .dataframe tbody tr th:only-of-type {\n",
       "        vertical-align: middle;\n",
       "    }\n",
       "\n",
       "    .dataframe tbody tr th {\n",
       "        vertical-align: top;\n",
       "    }\n",
       "\n",
       "    .dataframe thead th {\n",
       "        text-align: right;\n",
       "    }\n",
       "</style>\n",
       "<table border=\"1\" class=\"dataframe\">\n",
       "  <thead>\n",
       "    <tr style=\"text-align: right;\">\n",
       "      <th></th>\n",
       "      <th>BP_Measurement</th>\n",
       "      <th>Body_Mass_Index</th>\n",
       "      <th>Diabetes_%</th>\n",
       "      <th>Age_Range</th>\n",
       "      <th>Diabetes_status</th>\n",
       "    </tr>\n",
       "  </thead>\n",
       "  <tbody>\n",
       "    <tr>\n",
       "      <th>0</th>\n",
       "      <td>72.0</td>\n",
       "      <td>33.6</td>\n",
       "      <td>0.627</td>\n",
       "      <td>senior</td>\n",
       "      <td>1</td>\n",
       "    </tr>\n",
       "    <tr>\n",
       "      <th>1</th>\n",
       "      <td>66.0</td>\n",
       "      <td>26.6</td>\n",
       "      <td>0.351</td>\n",
       "      <td>middle-aged</td>\n",
       "      <td>0</td>\n",
       "    </tr>\n",
       "    <tr>\n",
       "      <th>2</th>\n",
       "      <td>64.0</td>\n",
       "      <td>23.3</td>\n",
       "      <td>0.672</td>\n",
       "      <td>middle-aged</td>\n",
       "      <td>1</td>\n",
       "    </tr>\n",
       "    <tr>\n",
       "      <th>3</th>\n",
       "      <td>66.0</td>\n",
       "      <td>28.1</td>\n",
       "      <td>0.167</td>\n",
       "      <td>young</td>\n",
       "      <td>0</td>\n",
       "    </tr>\n",
       "    <tr>\n",
       "      <th>4</th>\n",
       "      <td>40.0</td>\n",
       "      <td>43.1</td>\n",
       "      <td>2.288</td>\n",
       "      <td>middle-aged</td>\n",
       "      <td>1</td>\n",
       "    </tr>\n",
       "  </tbody>\n",
       "</table>\n",
       "</div>"
      ],
      "text/plain": [
       "   BP_Measurement  Body_Mass_Index  Diabetes_%    Age_Range  Diabetes_status\n",
       "0            72.0             33.6       0.627       senior                1\n",
       "1            66.0             26.6       0.351  middle-aged                0\n",
       "2            64.0             23.3       0.672  middle-aged                1\n",
       "3            66.0             28.1       0.167        young                0\n",
       "4            40.0             43.1       2.288  middle-aged                1"
      ]
     },
     "execution_count": 175,
     "metadata": {},
     "output_type": "execute_result"
    }
   ],
   "source": [
    "#removing clolumns in dataframe to improve relevence in analysis.\n",
    "#Some columns may not be neccessary to the broader interpretation of the data for further usage\n",
    "#reason for dropping the selected columns is given in ReadMe file\n",
    "\n",
    "#method to delete specific column\n",
    "ds.drop(['Glucose_level','Skin_Fold', 'Insulin_level','Num_Pregnancies'], axis=1, inplace=True)\n",
    "ds.head()"
   ]
  },
  {
   "cell_type": "code",
   "execution_count": 176,
   "id": "8bc7f96f-224b-44e4-9448-598c137b27ea",
   "metadata": {
    "tags": []
   },
   "outputs": [],
   "source": [
    "#function to visualize the columns data in order to get more insights on how the data is affecting the outcome\n",
    "#allows user to analyse different columns\n",
    "def plot_distribution(ds, column):\n",
    "    \"\"\"\n",
    "    Plots the distribution of a given column.\n",
    "    \n",
    "    Parameters:\n",
    "    ds: The DataFrame containing the data.\n",
    "    column (str): The column to visualize.\n",
    "    \n",
    "    Returns:\n",
    "    None\n",
    "    \"\"\"\n",
    "    #can manipulate naming of labels and color\n",
    "    #bins controls the size of the column when visualizing\n",
    "    sbn.histplot(ds[column], kde=True, color='green', bins=30) #kde for distribution under curve (Kernel Density Estimation)\n",
    "    plt.title(f'Distribution of {column}')\n",
    "    plt.xlabel('Frequency')\n",
    "    plt.ylabel('Value')\n",
    "    plt.show()\n"
   ]
  },
  {
   "cell_type": "code",
   "execution_count": 179,
   "id": "d09e0374-e147-44c1-9845-715562a630fc",
   "metadata": {
    "tags": []
   },
   "outputs": [
    {
     "name": "stderr",
     "output_type": "stream",
     "text": [
      "/home/abitondev/anaconda3/lib/python3.11/site-packages/seaborn/_oldcore.py:1119: FutureWarning: use_inf_as_na option is deprecated and will be removed in a future version. Convert inf values to NaN before operating instead.\n",
      "  with pd.option_context('mode.use_inf_as_na', True):\n"
     ]
    },
    {
     "data": {
      "image/png": "[encoded data removed]",
      "text/plain": [
       "<Figure size 640x480 with 1 Axes>"
      ]
     },
     "metadata": {},
     "output_type": "display_data"
    }
   ],
   "source": [
    "#call function - choose any column to visualize\n",
    "plot_distribution(ds, 'Body_Mass_Index')\n",
    "# plot_distribution(ds, 'BP_Measurement')"
   ]
  },
  {
   "cell_type": "code",
   "execution_count": 180,
   "id": "3a6adc93-6ea7-4c8f-ae34-d91949e365a5",
   "metadata": {},
   "outputs": [],
   "source": [
    "#can compare to distribution to further have deep insights of the data\n",
    "def compare_distributions(ds, column1, column2):\n",
    "    \"\"\"\n",
    "    Plots the distribution of a given columns.\n",
    "    \n",
    "    Parameters:\n",
    "    ds: The DataFrame containing the data.\n",
    "    column (str): The column to visualize.\n",
    "    column2(str): The column to visualize\n",
    "    \n",
    "    Returns:\n",
    "    None\n",
    "    \"\"\"\n",
    "    \n",
    "    plt.figure(figsize=(10, 6)) #figure controls the width and height of the figure\n",
    "\n",
    "    # Histogram & KDE for 'BP_Measurement'\n",
    "    sbn.histplot(ds[column1], kde=True, color='blue', label=column1, bins=20)\n",
    "\n",
    "    # Histogram & KDE for 'Body_Mass_Index'\n",
    "    sbn.histplot(ds[column2], kde=True, color='green', label=column2, bins=20)\n",
    "\n",
    "    # Adding titles and labels\n",
    "    plt.title(f'Distribution of {column1} and {column2}')\n",
    "    plt.xlabel('Values')\n",
    "    plt.ylabel('Frequency')\n",
    "    plt.legend()\n",
    "\n",
    "    # Show the plot\n",
    "    plt.show()\n",
    "\n",
    "    "
   ]
  },
  {
   "cell_type": "code",
   "execution_count": null,
   "id": "d21c4700-60c8-4556-93c6-d253362c1787",
   "metadata": {
    "tags": []
   },
   "outputs": [],
   "source": [
    "#call the function\n",
    "compare_distributions(ds, 'BP_Measurement', 'Body_Mass_Index')"
   ]
  },
  {
   "cell_type": "code",
   "execution_count": null,
   "id": "df93d64e-f81d-4afd-ae08-f74aaae41956",
   "metadata": {
    "tags": []
   },
   "outputs": [],
   "source": [
    "#a clear result distribution can be more clearer using pie-chart than usning a graph\n",
    "#insights are easily derived in this form of visualization \n",
    "def pie_chart_plot(ds,column):\n",
    "    \n",
    "    \"\"\"\n",
    "    Plots the pie-chart of a given column.\n",
    "    \n",
    "    Parameters:\n",
    "    ds: The DataFrame containing the data.\n",
    "    column (str): The column to visualize.\n",
    "    column2(str): The column to visualize\n",
    "    \n",
    "    Returns:\n",
    "    None\n",
    "    \"\"\"\n",
    "    plt.figure(figsize=(10, 6)) #figure controls the width and height of the figure\n",
    "    \n",
    "     # Count the occurrences of each category\n",
    "    category_counts = ds[column].value_counts()\n",
    "    \n",
    "    #plot a pie-chart\n",
    "    plt.pie(category_counts, \n",
    "            labels=category_counts.index, \n",
    "            autopct='%1.1f%%', #argument formats the percentage labels on the chart\n",
    "            startangle=90, \n",
    "            colors=plt.cm.Paired.colors #color palette for the pie chart.\n",
    "           )\n",
    "     # Adding a title\n",
    "    plt.title(f'Proportion of {column} Categories')\n",
    "    \n",
    "    # Equal aspect ratio ensures that the pie is drawn as a circle.\n",
    "    plt.axis('equal')\n",
    "    plt.show() \n",
    "    "
   ]
  },
  {
   "cell_type": "code",
   "execution_count": null,
   "id": "831dfef8-31be-427f-9fc7-aa46309f2bd5",
   "metadata": {
    "tags": []
   },
   "outputs": [],
   "source": [
    "#call the function with any column \n",
    "pie_chart_plot(ds, 'Diabetes_status')"
   ]
  },
  {
   "cell_type": "code",
   "execution_count": 129,
   "id": "7b8331b6-c4df-408b-92f6-a41319d4463c",
   "metadata": {},
   "outputs": [
    {
     "data": {
      "text/plain": [
       "BP_Measurement        int64\n",
       "Body_Mass_Index       int64\n",
       "Diabetes_%            int64\n",
       "Age_Range          category\n",
       "Diabetes_status       int64\n",
       "dtype: object"
      ]
     },
     "execution_count": 129,
     "metadata": {},
     "output_type": "execute_result"
    }
   ],
   "source": [
    "# change data type from float into integer\n",
    "ds['BP_Measurement'] = ds['BP_Measurement'].astype(int)  # Ensure 'Age' is an integer\n",
    "ds['Body_Mass_Index'] = ds['Body_Mass_Index'].astype(int)\n",
    "ds['Diabetes_%'] = ds['Diabetes_%'].astype(int)\n",
    "ds.dtypes"
   ]
  },
  {
   "cell_type": "code",
   "execution_count": null,
   "id": "1832f4ed-9f51-495b-9745-672e4bce26e3",
   "metadata": {
    "tags": []
   },
   "outputs": [],
   "source": [
    "\n"
   ]
  }
 ],
 "metadata": {
  "kernelspec": {
   "display_name": "Python 3 (ipykernel)",
   "language": "python",
   "name": "python3"
  },
  "language_info": {
   "codemirror_mode": {
    "name": "ipython",
    "version": 3
   },
   "file_extension": ".py",
   "mimetype": "text/x-python",
   "name": "python",
   "nbconvert_exporter": "python",
   "pygments_lexer": "ipython3",
   "version": "3.11.5"
  }
 },
 "nbformat": 4,
 "nbformat_minor": 5
}
