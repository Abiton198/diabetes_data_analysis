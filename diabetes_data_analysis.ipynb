{
 "cells": [
  {
   "cell_type": "code",
   "execution_count": 1,
   "id": "2a5819c1-39fc-40b0-9ab9-4ceb4c058a45",
   "metadata": {
    "tags": []
   },
   "outputs": [],
   "source": [
    "#import libraries to use for data manipulation\n",
    "import pandas as pd #for data visualization\n",
    "import matplotlib.pyplot as plt #statistical data visualization :comparisons\n",
    "import seaborn as sbn #statistical comparison of data visualization - built on matplotlib\n",
    "import numpy as np #for numerical and maths function on arrays"
   ]
  },
  {
   "cell_type": "code",
   "execution_count": null,
   "id": "69063c2b-0f43-4784-a52e-259cfdaff4d9",
   "metadata": {},
   "outputs": [],
   "source": []
  }
 ],
 "metadata": {
  "kernelspec": {
   "display_name": "Python 3 (ipykernel)",
   "language": "python",
   "name": "python3"
  },
  "language_info": {
   "codemirror_mode": {
    "name": "ipython",
    "version": 3
   },
   "file_extension": ".py",
   "mimetype": "text/x-python",
   "name": "python",
   "nbconvert_exporter": "python",
   "pygments_lexer": "ipython3",
   "version": "3.11.5"
  }
 },
 "nbformat": 4,
 "nbformat_minor": 5
}
